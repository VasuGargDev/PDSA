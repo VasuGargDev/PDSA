{
 "cells": [
  {
   "cell_type": "markdown",
   "id": "cb5519bb-3171-4888-a29c-1a86ce686282",
   "metadata": {},
   "source": [
    "### GrPA 1"
   ]
  },
  {
   "cell_type": "code",
   "execution_count": null,
   "id": "1d5cb442-5920-49d8-b6c4-77d7ad2b15ec",
   "metadata": {},
   "outputs": [],
   "source": [
    "def find_Min_Difference(L,P):\n",
    "    L.sort()\n",
    "    k=len(L)-P\n",
    "    min=L[-1]-L[0]\n",
    "    for i in range(k+1):\n",
    "        temp=L[i+P-1]-L[i]\n",
    "        if(temp<min):\n",
    "            min=temp\n",
    "    return min        \n",
    "        \n",
    "    \n",
    "L=eval(input().strip())\n",
    "P=int(input())\n",
    "print(find_Min_Difference(L,P))"
   ]
  },
  {
   "cell_type": "markdown",
   "id": "a3547594-70db-4112-bd5c-749b86d2224c",
   "metadata": {
    "tags": []
   },
   "source": [
    "### provided solution"
   ]
  },
  {
   "cell_type": "code",
   "execution_count": null,
   "id": "69c9119b-5b41-4069-8230-78ac94f71fd0",
   "metadata": {},
   "outputs": [],
   "source": [
    "def find_Min_Difference(L,P):\n",
    "    L.sort()\n",
    "    N = P\n",
    "    M = len(L)\n",
    "    min_diff = max(L) - min(L)\n",
    "    for i in range(M-N+1):\n",
    "        if L[i+N-1] - L[i] < min_diff:\n",
    "            min_diff = L[i+N-1] - L[i]\n",
    "    return min_diff\n",
    "\n",
    "L=eval(input().strip())\n",
    "P=int(input())\n",
    "print(find_Min_Difference(L,P))"
   ]
  },
  {
   "cell_type": "markdown",
   "id": "295818d1-c03f-4491-8a31-a54becd6f04b",
   "metadata": {},
   "source": [
    "### GrPA 2"
   ]
  },
  {
   "cell_type": "code",
   "execution_count": null,
   "id": "2f0b811d-c04f-4e50-97b9-4e0b66b749e5",
   "metadata": {},
   "outputs": [],
   "source": [
    "#copied code from PPA 1 for this problem\n",
    "def Goldbach(n):\n",
    "    pl = []\n",
    "    for i in range(2,n):    \n",
    "        f=0\n",
    "        for j in range(1,i+1):\n",
    "            if i%j==0:\n",
    "                f+=1\n",
    "        if f==2:\n",
    "            pl.append(i)\n",
    "    gb = []        \n",
    "    for a in pl:\n",
    "        for b in pl:\n",
    "            if ((a <= b) and (a+b==n)):\n",
    "                    gb.append((a,b)) \n",
    "    return gb        \n",
    "    \n",
    "        \n",
    "    \n",
    "n=int(input())\n",
    "print(sorted(Goldbach(n)))"
   ]
  },
  {
   "cell_type": "markdown",
   "id": "7d5b96e0-4789-4ea3-a769-13525aa058e3",
   "metadata": {
    "tags": []
   },
   "source": [
    "### provided solution"
   ]
  },
  {
   "cell_type": "code",
   "execution_count": null,
   "id": "3d529002-2371-4dff-bf5c-932bf534bc39",
   "metadata": {},
   "outputs": [],
   "source": [
    "def prime(n):\n",
    "    if n < 2:\n",
    "        return False\n",
    "    for i in range(2,n//2+1):\n",
    "        if n%i==0:\n",
    "            return False\n",
    "    return True\n",
    "\n",
    "def Goldbach(n):\n",
    "    Res=[]\n",
    "    for i in range((n//2)+1):\n",
    "        if prime(i)==True:\n",
    "            if prime(n-i)==True:\n",
    "                Res.append((i,n-i))\n",
    "    return(Res)\n",
    "n=int(input())\n",
    "print(sorted(Goldbach(n)))"
   ]
  },
  {
   "cell_type": "markdown",
   "id": "87c5b711-b25e-4de6-8b04-09c3b2c47e42",
   "metadata": {},
   "source": [
    "### GrPA 3"
   ]
  },
  {
   "cell_type": "code",
   "execution_count": null,
   "id": "7325f1a4-1727-4d33-a23f-ef749f1b2560",
   "metadata": {},
   "outputs": [],
   "source": [
    "def odd_one(L):\n",
    "    d={}  \n",
    "    for j in L:\n",
    "        if(type(j) == int):\n",
    "            d[\"int\"] = d.get(\"int\", 0) + 1\n",
    "        if(type(j) == float):\n",
    "            d[\"float\"] = d.get(\"float\", 0) + 1\n",
    "        if(type(j) == str):\n",
    "            d[\"str\"] = d.get(\"str\", 0) + 1  \n",
    "        if(type(j) == bool):\n",
    "            d[\"bool\"] = d.get(\"bool\", 0) + 1\n",
    "    for i in d:\n",
    "        if(d[i] == 1):\n",
    "            return(i)\n",
    "\n",
    "print(odd_one(eval(input().strip())))\n",
    "\n",
    "#help from: https://www.kite.com/python/answers/how-to-increment-a-value-in-a-dictionary-in-python"
   ]
  },
  {
   "cell_type": "markdown",
   "id": "f994bfb0-97de-4d4b-b015-aae48ca92f18",
   "metadata": {
    "tags": []
   },
   "source": [
    "### provided solution"
   ]
  },
  {
   "cell_type": "code",
   "execution_count": null,
   "id": "a864cc99-0b12-4005-abac-a66f7cb6e4b6",
   "metadata": {},
   "outputs": [],
   "source": [
    "def odd_one(L):\n",
    "    P = {}\n",
    "    for elem in L:\n",
    "        if type(elem) not in P:\n",
    "            P[type(elem)] = 0\n",
    "        P[type(elem)] += 1\n",
    "    for key, value in P.items():\n",
    "        if value == 1:\n",
    "            return key.__name__\n",
    "\n",
    "print(odd_one(eval(input().strip())))"
   ]
  }
 ],
 "metadata": {
  "kernelspec": {
   "display_name": "Python 3 (ipykernel)",
   "language": "python",
   "name": "python3"
  },
  "language_info": {
   "codemirror_mode": {
    "name": "ipython",
    "version": 3
   },
   "file_extension": ".py",
   "mimetype": "text/x-python",
   "name": "python",
   "nbconvert_exporter": "python",
   "pygments_lexer": "ipython3",
   "version": "3.9.7"
  }
 },
 "nbformat": 4,
 "nbformat_minor": 5
}
