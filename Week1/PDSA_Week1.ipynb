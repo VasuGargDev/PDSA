{
  "nbformat": 4,
  "nbformat_minor": 0,
  "metadata": {
    "colab": {
      "name": "PDSA Week1.ipynb",
      "provenance": []
    },
    "kernelspec": {
      "name": "python3",
      "display_name": "Python 3"
    },
    "language_info": {
      "name": "python"
    }
  },
  "cells": [
    {
      "cell_type": "code",
      "execution_count": null,
      "metadata": {
        "id": "Gun9AkvVy8QZ",
        "colab": {
          "base_uri": "https://localhost:8080/"
        },
        "outputId": "d04b5cf8-fa13-4f05-d628-6cf62202f8db"
      },
      "outputs": [
        {
          "output_type": "execute_result",
          "data": {
            "text/plain": [
              "2"
            ]
          },
          "metadata": {},
          "execution_count": 1
        }
      ],
      "source": [
        "1+1"
      ]
    },
    {
      "cell_type": "markdown",
      "source": [
        "#Lecture 1.2 - Implementation of Python codes (Part 1)\n",
        "-------------------------------------"
      ],
      "metadata": {
        "id": "nZB5SlCJpZCD"
      }
    },
    {
      "cell_type": "markdown",
      "metadata": {
        "id": "6Ii5KWh4LIkx"
      },
      "source": [
        "# PDSA with Python, Week 1 - Introducing Jupyter Notebook\n",
        "## Computing primes from 1 to 100"
      ]
    },
    {
      "cell_type": "markdown",
      "metadata": {
        "id": "794648f4"
      },
      "source": [
        "## Aim of this notebook\n",
        "* Illustrate how Jupyter/Colab notebooks work\n",
        "* Interspersing documentation, explanations with the code\n",
        "* Output is preserved, reloaded when the notebook is opened the next time\n",
        "\n",
        "\n",
        "\n"
      ]
    },
    {
      "cell_type": "markdown",
      "metadata": {
        "id": "vs08oMYPLhMZ"
      },
      "source": [
        "## Let's begin"
      ]
    },
    {
      "cell_type": "markdown",
      "metadata": {
        "id": "UIbDx39PGs_W"
      },
      "source": [
        "First: a function compute list of factors of a number"
      ]
    },
    {
      "cell_type": "code",
      "metadata": {
        "id": "d0ea1cf6"
      },
      "source": [
        "\n",
        "def factors(n):\n",
        "  factorlist = []\n",
        "  for i in range(1,n+1):\n",
        "    if n%i == 0:\n",
        "      factorlist.append(i)\n",
        "  return(factorlist)\n",
        "  factors(10)"
      ],
      "execution_count": null,
      "outputs": []
    },
    {
      "cell_type": "markdown",
      "metadata": {
        "id": "NSpR_i7lG5Gw"
      },
      "source": [
        "Next: two different definitions for checking if a number is a prime\n",
        "1. Note that different definitions can coexist in the notebook\n",
        "1. When we *run* a cell, that definition becomes the current one\n",
        "1. The first definition is *intentionally* wrong (the condition in the `return()` should be `==` rather than `!=`)"
      ]
    },
    {
      "cell_type": "code",
      "metadata": {
        "id": "b99769df"
      },
      "source": [
        "def prime(n):\n",
        "  return(factors(n) != [1,n])"
      ],
      "execution_count": null,
      "outputs": []
    },
    {
      "cell_type": "code",
      "metadata": {
        "id": "e028cce8"
      },
      "source": [
        "def prime(n):\n",
        "  return(len(factors(n)) == 2)"
      ],
      "execution_count": null,
      "outputs": []
    },
    {
      "cell_type": "markdown",
      "metadata": {
        "id": "6k26xQfmHrMK"
      },
      "source": [
        "Finally, some code that uses the functions defined above to list primes from 1 to 100\n",
        "* Try it with each of the definitions of `prime()` above\n",
        "    * Using the second version (the **correct** characterization) you should get the primes from 2 to 97\n",
        "    * Using the first version (the intentionally **incorrect** version) you should get the composite numbers from 1 to 100"
      ]
    },
    {
      "cell_type": "code",
      "metadata": {
        "colab": {
          "base_uri": "https://localhost:8080/"
        },
        "id": "8046b279",
        "outputId": "37083686-692d-4a4e-c96d-e3aa50b753a3"
      },
      "source": [
        "primelist = []\n",
        "for i in range(1,101):\n",
        "  if (prime(i)):\n",
        "    primelist.append(i)\n",
        "\n",
        "print(primelist)"
      ],
      "execution_count": null,
      "outputs": [
        {
          "output_type": "stream",
          "name": "stdout",
          "text": [
            "[2, 3, 5, 7, 11, 13, 17, 19, 23, 29, 31, 37, 41, 43, 47, 53, 59, 61, 67, 71, 73, 79, 83, 89, 97]\n"
          ]
        }
      ]
    },
    {
      "cell_type": "markdown",
      "metadata": {
        "id": "NpFBh7bRIZsm"
      },
      "source": [
        "## Graphical output\n",
        "This is to show more interesting forms of output are preserved by the notebook\n",
        "* Plot $1 + \\cos(x)$ for $x \\in [0,4\\pi)$\n",
        "    * More precisely, $1 + \\cos(2\\pi t)$ for $t \\in [0,2)$, in discrete increments of $0.01$\n",
        "* Change $\\cos()$ to $\\sin()$ and see how the output changes\n",
        "* **Note**: Markdown supports $\\LaTeX$ for math!"
      ]
    },
    {
      "cell_type": "code",
      "metadata": {
        "colab": {
          "base_uri": "https://localhost:8080/",
          "height": 265
        },
        "id": "e5355207",
        "outputId": "5ae5d56b-3e5d-4b66-99e0-ff8a37e14bc2"
      },
      "source": [
        "import matplotlib.pyplot as plt\n",
        "import numpy as np\n",
        "\n",
        "# Create an array t = [0, 0.01, 0.02, ..., 1.99]\n",
        "t = np.arange(0.0, 2.0, 0.01)\n",
        "\n",
        "# print(t) will show you the array t\n",
        "\n",
        "# Compute an array s containing f(t) for each value of t\n",
        "s = 1 + np.cos(2 * np.pi * t)\n",
        "\n",
        "# print(s) will show you the array s\n",
        "\n",
        "# Create the plot of t vs s and display it\n",
        "fig, ax = plt.subplots()\n",
        "ax.plot(t, s)\n",
        "\n",
        "plt.show()"
      ],
      "execution_count": null,
      "outputs": [
        {
          "output_type": "display_data",
          "data": {
            "image/png": "[encoded data removed]",
            "text/plain": [
              "<Figure size 432x288 with 1 Axes>"
            ]
          },
          "metadata": {
            "needs_background": "light"
          }
        }
      ]
    },
    {
      "cell_type": "markdown",
      "source": [
        "------------------------------------------------------------------------\n",
        "------------------------------------------------------------------------"
      ],
      "metadata": {
        "id": "xlnbhp62sSUh"
      }
    },
    {
      "cell_type": "markdown",
      "source": [
        "#Lecture 1.8 - Implementation of Python codes (Part 2)\n",
        "--------------------------------------------------------"
      ],
      "metadata": {
        "id": "Vgy44H-Us6gJ"
      }
    },
    {
      "cell_type": "markdown",
      "metadata": {
        "id": "Pv-EPhh7yz_a"
      },
      "source": [
        "# PDSA with Python, Week 1 - Classes and objects"
      ]
    },
    {
      "cell_type": "markdown",
      "metadata": {
        "id": "3e6GBtzfMs7O"
      },
      "source": [
        "### Basic definition of class `Point` using $(x,y)$ coordinates"
      ]
    },
    {
      "cell_type": "code",
      "metadata": {
        "id": "ca2GbnOHzC2r"
      },
      "source": [
        "class Point:\n",
        "  def __init__(self,a=0,b=0):\n",
        "    self.x = a\n",
        "    self.y = b\n",
        "\n",
        "  def translate(self,deltax,deltay):\n",
        "    self.x += deltax\n",
        "    self.y += deltay\n",
        "\n",
        "  def odistance(self):\n",
        "    import math\n",
        "    d = math.sqrt(self.x*self.x +\n",
        "                  self.y*self.y)\n",
        "    return(d)"
      ],
      "execution_count": null,
      "outputs": []
    },
    {
      "cell_type": "markdown",
      "metadata": {
        "id": "vL5H9DY-NGgv"
      },
      "source": [
        "Create two points"
      ]
    },
    {
      "cell_type": "code",
      "metadata": {
        "id": "-oTeAgIcNP2L"
      },
      "source": [
        "p = Point(3,4)\n",
        "q = Point(7,10)"
      ],
      "execution_count": null,
      "outputs": []
    },
    {
      "cell_type": "markdown",
      "metadata": {
        "id": "XdAb4k1SNWoS"
      },
      "source": [
        "Compute `odistance` for `p` and `q`"
      ]
    },
    {
      "cell_type": "code",
      "metadata": {
        "colab": {
          "base_uri": "https://localhost:8080/"
        },
        "id": "YzY1sm3bhUc9",
        "outputId": "7a5c8cd4-8644-490f-aff3-05e298fc1edf"
      },
      "source": [
        "p.odistance(), q.odistance()"
      ],
      "execution_count": null,
      "outputs": [
        {
          "output_type": "execute_result",
          "data": {
            "text/plain": [
              "(5.0, 12.206555615733702)"
            ]
          },
          "metadata": {},
          "execution_count": 3
        }
      ]
    },
    {
      "cell_type": "markdown",
      "metadata": {
        "id": "jS7WVBYmNkfz"
      },
      "source": [
        "Translate `p` and check the distance"
      ]
    },
    {
      "cell_type": "code",
      "metadata": {
        "id": "ZWqlMbmANiGO",
        "colab": {
          "base_uri": "https://localhost:8080/"
        },
        "outputId": "49b3240c-dc1b-461c-c8fa-83b1196388f4"
      },
      "source": [
        "p.translate(3,4)\n",
        "p.odistance()"
      ],
      "execution_count": null,
      "outputs": [
        {
          "output_type": "execute_result",
          "data": {
            "text/plain": [
              "10.0"
            ]
          },
          "metadata": {},
          "execution_count": 4
        }
      ]
    },
    {
      "cell_type": "markdown",
      "metadata": {
        "id": "fV_cqd-TN6_N"
      },
      "source": [
        "* At this stage, `print()` does not produce anything meaningful\n",
        "* `+` is not defined yet"
      ]
    },
    {
      "cell_type": "code",
      "metadata": {
        "colab": {
          "base_uri": "https://localhost:8080/"
        },
        "id": "5ExlIEd-kbAq",
        "outputId": "4f052dfd-3a45-4861-fae9-e26770eda21e"
      },
      "source": [
        "print(p)"
      ],
      "execution_count": null,
      "outputs": [
        {
          "output_type": "stream",
          "name": "stdout",
          "text": [
            "<__main__.Point object at 0x7f318ebfa350>\n"
          ]
        }
      ]
    },
    {
      "cell_type": "code",
      "metadata": {
        "colab": {
          "base_uri": "https://localhost:8080/",
          "height": 165
        },
        "id": "yKrNADbxOQQ3",
        "outputId": "83671915-ad79-4b62-cba5-d9adf9adac2f"
      },
      "source": [
        "print(p+q)"
      ],
      "execution_count": null,
      "outputs": [
        {
          "output_type": "error",
          "ename": "TypeError",
          "evalue": "ignored",
          "traceback": [
            "\u001b[0;31m---------------------------------------------------------------------------\u001b[0m",
            "\u001b[0;31mTypeError\u001b[0m                                 Traceback (most recent call last)",
            "\u001b[0;32m<ipython-input-6-1886228b68be>\u001b[0m in \u001b[0;36m<module>\u001b[0;34m()\u001b[0m\n\u001b[0;32m----> 1\u001b[0;31m \u001b[0mprint\u001b[0m\u001b[0;34m(\u001b[0m\u001b[0mp\u001b[0m\u001b[0;34m+\u001b[0m\u001b[0mq\u001b[0m\u001b[0;34m)\u001b[0m\u001b[0;34m\u001b[0m\u001b[0;34m\u001b[0m\u001b[0m\n\u001b[0m",
            "\u001b[0;31mTypeError\u001b[0m: unsupported operand type(s) for +: 'Point' and 'Point'"
          ]
        }
      ]
    },
    {
      "cell_type": "markdown",
      "metadata": {
        "id": "LDKw6QbcOWhn"
      },
      "source": [
        "## Now change the definition of `Point` to use $(r,\\theta)$ representation"
      ]
    },
    {
      "cell_type": "code",
      "metadata": {
        "id": "Pu9qu_a5kJdJ"
      },
      "source": [
        "import math\n",
        "class Point:\n",
        "  def __init__(self,a=0,b=0):\n",
        "    self.r = math.sqrt(a*a + b*b)\n",
        "    if a == 0:\n",
        "      self.theta = 0\n",
        "    else:\n",
        "      self.theta = math.atan(b/a)\n",
        "\n",
        "  def translate(self,deltax,deltay):    \n",
        "    x = self.r*math.cos(self.theta)\n",
        "    y = self.r*math.sin(self.theta)\n",
        "    x += deltax\n",
        "    y += deltay\n",
        "    self.r = math.sqrt(x*x + y*y)\n",
        "    if x == 0:\n",
        "      self.theta = 0\n",
        "    else:\n",
        "      self.theta = math.atan(y/x)\n",
        "\n",
        "  def odistance(self):\n",
        "    return(self.r)\n"
      ],
      "execution_count": null,
      "outputs": []
    },
    {
      "cell_type": "markdown",
      "metadata": {
        "id": "R47rTz9YOx9M"
      },
      "source": [
        "### Repeat the examples above\n",
        "* Observe that nothing changes for the user of the class"
      ]
    },
    {
      "cell_type": "markdown",
      "metadata": {
        "id": "ZCNaDrTyOyOO"
      },
      "source": [
        "Create two points"
      ]
    },
    {
      "cell_type": "code",
      "metadata": {
        "id": "Zqs81eH9OyOR"
      },
      "source": [
        "p = Point(3,4)\n",
        "q = Point(7,10)"
      ],
      "execution_count": null,
      "outputs": []
    },
    {
      "cell_type": "markdown",
      "metadata": {
        "id": "5blqhCjgOyOU"
      },
      "source": [
        "Compute `odistance` for `p` and `q`"
      ]
    },
    {
      "cell_type": "code",
      "metadata": {
        "colab": {
          "base_uri": "https://localhost:8080/"
        },
        "id": "i4h-cuOkOyOW",
        "outputId": "2d715329-fe9f-49a5-d352-05f10037f919"
      },
      "source": [
        "p.odistance(), q.odistance()"
      ],
      "execution_count": null,
      "outputs": [
        {
          "output_type": "execute_result",
          "data": {
            "text/plain": [
              "(5.0, 12.206555615733702)"
            ]
          },
          "metadata": {
            "tags": []
          },
          "execution_count": 9
        }
      ]
    },
    {
      "cell_type": "markdown",
      "metadata": {
        "id": "WKKpB9fCOyOa"
      },
      "source": [
        "Translate `p` and check the distance"
      ]
    },
    {
      "cell_type": "code",
      "metadata": {
        "colab": {
          "base_uri": "https://localhost:8080/"
        },
        "id": "-8g6qFUKOyOc",
        "outputId": "8090c1ad-4c86-43aa-d776-77db82f067a2"
      },
      "source": [
        "p.translate(3,4)\n",
        "p.odistance()"
      ],
      "execution_count": null,
      "outputs": [
        {
          "output_type": "execute_result",
          "data": {
            "text/plain": [
              "10.0"
            ]
          },
          "metadata": {
            "tags": []
          },
          "execution_count": 10
        }
      ]
    },
    {
      "cell_type": "code",
      "metadata": {
        "colab": {
          "base_uri": "https://localhost:8080/"
        },
        "id": "AtHNg3ybP-kR",
        "outputId": "2f3b558b-0424-4a78-a4b3-3e8485cacbe3"
      },
      "source": [
        "print(p)"
      ],
      "execution_count": null,
      "outputs": [
        {
          "output_type": "stream",
          "text": [
            "<__main__.Point object at 0x7f3b302d98d0>\n"
          ],
          "name": "stdout"
        }
      ]
    },
    {
      "cell_type": "code",
      "metadata": {
        "colab": {
          "base_uri": "https://localhost:8080/",
          "height": 168
        },
        "id": "Rdds_CEuP5ga",
        "outputId": "d996a299-baa9-4ea9-a884-24ef9806f369"
      },
      "source": [
        "print(p+q)"
      ],
      "execution_count": null,
      "outputs": [
        {
          "output_type": "error",
          "ename": "TypeError",
          "evalue": "ignored",
          "traceback": [
            "\u001b[0;31m---------------------------------------------------------------------------\u001b[0m",
            "\u001b[0;31mTypeError\u001b[0m                                 Traceback (most recent call last)",
            "\u001b[0;32m<ipython-input-12-1886228b68be>\u001b[0m in \u001b[0;36m<module>\u001b[0;34m()\u001b[0m\n\u001b[0;32m----> 1\u001b[0;31m \u001b[0mprint\u001b[0m\u001b[0;34m(\u001b[0m\u001b[0mp\u001b[0m\u001b[0;34m+\u001b[0m\u001b[0mq\u001b[0m\u001b[0;34m)\u001b[0m\u001b[0;34m\u001b[0m\u001b[0;34m\u001b[0m\u001b[0m\n\u001b[0m",
            "\u001b[0;31mTypeError\u001b[0m: unsupported operand type(s) for +: 'Point' and 'Point'"
          ]
        }
      ]
    },
    {
      "cell_type": "markdown",
      "metadata": {
        "id": "WY4_XGDWPdWV"
      },
      "source": [
        "## Return to $(x,y)$ representation, adding `__str__` and `__add__`"
      ]
    },
    {
      "cell_type": "code",
      "metadata": {
        "id": "IA5wxJM2l6bY"
      },
      "source": [
        "class Point:\n",
        "  def __init__(self,a=0,b=0):\n",
        "    self.x = a\n",
        "    self.y = b\n",
        "\n",
        "  def translate(self,deltax,deltay):\n",
        "    self.x += deltax\n",
        "    self.y += deltay\n",
        "\n",
        "  def odistance(self):\n",
        "    import math\n",
        "    d = math.sqrt(self.x*self.x +\n",
        "                  self.y*self.y)\n",
        "    return(d)\n",
        "\n",
        "  def __str__(self):\n",
        "    return('('+str(self.x)+','\n",
        "            +str(self.y)+')')\n",
        "\n",
        "  def __add__(self,p):\n",
        "    return(Point(self.x + p.x, \n",
        "                 self.y + p.y))\n"
      ],
      "execution_count": null,
      "outputs": []
    },
    {
      "cell_type": "markdown",
      "metadata": {
        "id": "TDx4EfoAPyou"
      },
      "source": [
        "## Again, run the same examples"
      ]
    },
    {
      "cell_type": "code",
      "metadata": {
        "id": "YQKmATswPw3z"
      },
      "source": [
        "p = Point(3,4)\n",
        "q = Point(7,10)"
      ],
      "execution_count": null,
      "outputs": []
    },
    {
      "cell_type": "markdown",
      "metadata": {
        "id": "ZDzM_xaaPw31"
      },
      "source": [
        "Compute `odistance` for `p` and `q`"
      ]
    },
    {
      "cell_type": "code",
      "metadata": {
        "colab": {
          "base_uri": "https://localhost:8080/"
        },
        "id": "WKTMDwUoPw32",
        "outputId": "07a2e36f-54c6-4364-d6c4-b29c33d077d8"
      },
      "source": [
        "p.odistance(), q.odistance()"
      ],
      "execution_count": null,
      "outputs": [
        {
          "output_type": "execute_result",
          "data": {
            "text/plain": [
              "(5.0, 12.206555615733702)"
            ]
          },
          "metadata": {
            "tags": []
          },
          "execution_count": 22
        }
      ]
    },
    {
      "cell_type": "markdown",
      "metadata": {
        "id": "QBWwxM5XPw34"
      },
      "source": [
        "Translate `p` and check the distance"
      ]
    },
    {
      "cell_type": "code",
      "metadata": {
        "colab": {
          "base_uri": "https://localhost:8080/"
        },
        "id": "-yYwSGgHPw35",
        "outputId": "f0c4fb05-ad16-4c9b-d1bc-13689a991072"
      },
      "source": [
        "p.translate(3,4)\n",
        "p.odistance()"
      ],
      "execution_count": null,
      "outputs": [
        {
          "output_type": "execute_result",
          "data": {
            "text/plain": [
              "10.0"
            ]
          },
          "metadata": {
            "tags": []
          },
          "execution_count": 23
        }
      ]
    },
    {
      "cell_type": "markdown",
      "metadata": {
        "id": "IJ223fxdPw37"
      },
      "source": [
        "In the following two cells, we see a difference\n",
        "* Since `__str__` is defined, `print()` gives useful output\n",
        "* `+` works as expected thanks to the definition for `__add__`"
      ]
    },
    {
      "cell_type": "markdown",
      "metadata": {
        "id": "8wmgdrGdRMpX"
      },
      "source": [
        ""
      ]
    },
    {
      "cell_type": "code",
      "metadata": {
        "colab": {
          "base_uri": "https://localhost:8080/"
        },
        "id": "nqy2SmN2Pw38",
        "outputId": "b2461d51-27f3-4592-bce4-74daa9b509b1"
      },
      "source": [
        "print(p)"
      ],
      "execution_count": null,
      "outputs": [
        {
          "output_type": "stream",
          "text": [
            "(6,8)\n"
          ],
          "name": "stdout"
        }
      ]
    },
    {
      "cell_type": "code",
      "metadata": {
        "colab": {
          "base_uri": "https://localhost:8080/"
        },
        "id": "5xXveEMAPw39",
        "outputId": "b9f83da6-c9e4-4094-811d-d7b13cd3b302"
      },
      "source": [
        "print(p+q)"
      ],
      "execution_count": null,
      "outputs": [
        {
          "output_type": "stream",
          "text": [
            "(13,18)\n"
          ],
          "name": "stdout"
        }
      ]
    },
    {
      "cell_type": "markdown",
      "source": [
        "------------------------------------------------------------------------\n",
        "------------------------------------------------------------------------"
      ],
      "metadata": {
        "id": "58iUsokJdVOh"
      }
    },
    {
      "cell_type": "markdown",
      "source": [
        "#Lecture 1.10 - Implementation of Python codes (Part 3)\n",
        "--------------------------------------------------------"
      ],
      "metadata": {
        "id": "g4n2XskcdVO9"
      }
    },
    {
      "cell_type": "markdown",
      "metadata": {
        "id": "YZfqacz3R_cy"
      },
      "source": [
        "# PDSA with Python, Week 1 - Timing Code"
      ]
    },
    {
      "cell_type": "markdown",
      "metadata": {
        "id": "8RxBrgZg0xK9"
      },
      "source": [
        "### Define a `Timer` class"
      ]
    },
    {
      "cell_type": "code",
      "metadata": {
        "id": "jaJEcmhW6ATj"
      },
      "source": [
        "import time\n",
        "\n",
        "class TimerError(Exception):\n",
        "    \"\"\"A custom exception used to report errors in use of Timer class\"\"\"\n",
        "\n",
        "class Timer:\n",
        "    def __init__(self):\n",
        "        self._start_time = None\n",
        "        self._elapsed_time = None\n",
        "\n",
        "    def start(self):\n",
        "        \"\"\"Start a new timer\"\"\"\n",
        "        if self._start_time is not None:\n",
        "            raise TimerError(\"Timer is running. Use .stop()\")\n",
        "        self._start_time = time.perf_counter()\n",
        "\n",
        "    def stop(self):\n",
        "        \"\"\"Save the elapsed time and re-initialize timer\"\"\"\n",
        "        if self._start_time is None:\n",
        "           raise TimerError(\"Timer is not running. Use .start()\")\n",
        "        self._elapsed_time = time.perf_counter() - self._start_time\n",
        "        self._start_time = None\n",
        "\n",
        "    def elapsed(self):\n",
        "        \"\"\"Report elapsed time\"\"\"\n",
        "        if self._elapsed_time is None:\n",
        "           raise TimerError(\"Timer has not been run yet. Use .start()\")\n",
        "        return(self_elapsed_time)\n",
        "\n",
        "    def __str__(self):\n",
        "        \"\"\"print() prints elapsed time\"\"\"\n",
        "        return(str(self._elapsed_time))"
      ],
      "execution_count": null,
      "outputs": []
    },
    {
      "cell_type": "markdown",
      "metadata": {
        "id": "Wl8_wvrnSPH7"
      },
      "source": [
        "### Experimentally check Python execution time\n",
        "* Run a simple loop $10^4, 10^5, \\ldots, 10^8$ times\n",
        "* Time taken ranges from approximately $0.001s$ to approximately $10s$"
      ]
    },
    {
      "cell_type": "code",
      "metadata": {
        "colab": {
          "base_uri": "https://localhost:8080/"
        },
        "id": "fj9d33Cz6pEX",
        "outputId": "850384a4-8395-43da-9d21-691165012271"
      },
      "source": [
        "t = Timer()\n",
        "for j in range(4,9):\n",
        "  t.start()  # Start the timer\n",
        "\n",
        "  # Run a trivial loop with 10^j iterations\n",
        "  n = 0\n",
        "  for i in range(10**j):\n",
        "    n = n+i\n",
        "  \n",
        "  t.stop()   # Stop the timer\n",
        "  print(j,t) # Report time taken for this value of j"
      ],
      "execution_count": null,
      "outputs": [
        {
          "output_type": "stream",
          "text": [
            "4 0.0016220360000005485\n",
            "5 0.013152008000005821\n",
            "6 0.12692025299999443\n",
            "7 1.3113010569999943\n",
            "8 12.951606929000008\n"
          ],
          "name": "stdout"
        }
      ]
    },
    {
      "cell_type": "markdown",
      "metadata": {
        "id": "VqNqQh2uTnUb"
      },
      "source": [
        "### If we change the basic operation inside the loop to a constant assignment, the time is slightly less"
      ]
    },
    {
      "cell_type": "code",
      "metadata": {
        "colab": {
          "base_uri": "https://localhost:8080/"
        },
        "id": "QyzzzfVpTnji",
        "outputId": "2224d344-f149-4f4f-8a3c-867f526648ba"
      },
      "source": [
        "t = Timer()\n",
        "for j in range(4,9):\n",
        "  t.start()  # Start the timer\n",
        "\n",
        "  # Run a trivial loop with 10^j iterations\n",
        "  n = 0\n",
        "  for i in range(10**j):\n",
        "    n = 0\n",
        "  \n",
        "  t.stop()   # Stop the timer\n",
        "  print(j,t) # Report time taken for this value of j"
      ],
      "execution_count": null,
      "outputs": [
        {
          "output_type": "stream",
          "text": [
            "4 0.0015917349999767794\n",
            "5 0.0088671290000093\n",
            "6 0.07052080700000829\n",
            "7 0.7320572719999916\n",
            "8 7.1662828649999994\n"
          ],
          "name": "stdout"
        }
      ]
    },
    {
      "cell_type": "markdown",
      "source": [
        "------------------------------------------------------------------------\n",
        "------------------------------------------------------------------------"
      ],
      "metadata": {
        "id": "hoFOYXQddmnC"
      }
    },
    {
      "cell_type": "markdown",
      "source": [
        "#Lecture 1.12 - Implementation of Python codes (Part 4)\n",
        "--------------------------------------------------------"
      ],
      "metadata": {
        "id": "cYFsw1EAdmnE"
      }
    },
    {
      "cell_type": "markdown",
      "metadata": {
        "id": "RPbDWc0dUsNk"
      },
      "source": [
        "# PDSA with Python, Week 1 - Python Recap: gcd and primality"
      ]
    },
    {
      "cell_type": "markdown",
      "metadata": {
        "id": "dmttYKbgEX4K"
      },
      "source": [
        "# **gcd**"
      ]
    },
    {
      "cell_type": "markdown",
      "metadata": {
        "id": "V0hlBQnw9RWq"
      },
      "source": [
        "\n",
        "\n",
        "## Compute gcd via list of common factors\n",
        "\n",
        "\n"
      ]
    },
    {
      "cell_type": "code",
      "metadata": {
        "id": "rysAUNRaU_Zy"
      },
      "source": [
        "def gcd(m,n):\n",
        "  cf = []   # List of common factors\n",
        "  for i in range(1,min(m,n)+1):\n",
        "    if (m%i) == 0 and (n%i) == 0:\n",
        "      cf.append(i)\n",
        "  return(cf[-1])\n"
      ],
      "execution_count": null,
      "outputs": []
    },
    {
      "cell_type": "markdown",
      "metadata": {
        "id": "ckvKxvDi9zwL"
      },
      "source": [
        "## Compute gcd using most recent common factor"
      ]
    },
    {
      "cell_type": "code",
      "metadata": {
        "id": "n8DaeWjm9x4d"
      },
      "source": [
        "def gcd(m,n):\n",
        "  for i in range(1,min(m,n)+1):\n",
        "    if (m%i) == 0 and (n%i) == 0:\n",
        "      mrcf = i\n",
        "  return(mrcf)"
      ],
      "execution_count": null,
      "outputs": []
    },
    {
      "cell_type": "markdown",
      "metadata": {
        "id": "2hAYxl4R-OTz"
      },
      "source": [
        "### Let's use the `Timer` class to evaluate naive gcd"
      ]
    },
    {
      "cell_type": "code",
      "metadata": {
        "id": "-6KUyJcZekiq"
      },
      "source": [
        "import time\n",
        "\n",
        "class TimerError(Exception):\n",
        "    \"\"\"A custom exception used to report errors in use of Timer class\"\"\"\n",
        "\n",
        "class Timer:\n",
        "    def __init__(self):\n",
        "        self._start_time = None\n",
        "        self._elapsed_time = None\n",
        "\n",
        "    def start(self):\n",
        "        \"\"\"Start a new timer\"\"\"\n",
        "        if self._start_time is not None:\n",
        "            raise TimerError(\"Timer is running. Use .stop()\")\n",
        "        self._start_time = time.perf_counter()\n",
        "\n",
        "    def stop(self):\n",
        "        \"\"\"Save the elapsed time and re-initialize timer\"\"\"\n",
        "        if self._start_time is None:\n",
        "           raise TimerError(\"Timer is not running. Use .start()\")\n",
        "        self._elapsed_time = time.perf_counter() - self._start_time\n",
        "        self._start_time = None\n",
        "\n",
        "    def elapsed(self):\n",
        "        \"\"\"Report elapsed time\"\"\"\n",
        "        if self._elapsed_time is None:\n",
        "           raise TimerError(\"Timer has not been run yet. Use .start()\")\n",
        "        return(self_elapsed_time)\n",
        "\n",
        "    def __str__(self):\n",
        "        \"\"\"print() prints elapsed time\"\"\"\n",
        "        return(str(self._elapsed_time))"
      ],
      "execution_count": null,
      "outputs": []
    },
    {
      "cell_type": "markdown",
      "metadata": {
        "id": "JqGdMuEPBMxC"
      },
      "source": [
        "## Experiment with inputs of size $10^6$ to $10^8$"
      ]
    },
    {
      "cell_type": "code",
      "metadata": {
        "colab": {
          "base_uri": "https://localhost:8080/"
        },
        "id": "y2lwEGQhAEEl",
        "outputId": "3fcbd250-06c1-45b5-9a6b-3b7a51e456c7"
      },
      "source": [
        "t = Timer()\n",
        "# 10^6\n",
        "t.start()\n",
        "print(6712345,7654321,gcd(6712345,7654321))\n",
        "t.stop()\n",
        "print(t)\n",
        "# 10^7\n",
        "t.start()\n",
        "print(67812345,87654321,gcd(67812345,87654321))\n",
        "t.stop()\n",
        "print(t)\n",
        "# 10^8\n",
        "t.start()\n",
        "print(678912345,987654321,gcd(678912345,987654321))\n",
        "t.stop()\n",
        "print(t)"
      ],
      "execution_count": null,
      "outputs": [
        {
          "output_type": "stream",
          "text": [
            "6712345 7654321 1\n",
            "0.608340369000075\n",
            "67812345 87654321 9\n",
            "6.068647063000071\n",
            "678912345 987654321 9\n",
            "60.15791690699996\n"
          ],
          "name": "stdout"
        }
      ]
    },
    {
      "cell_type": "markdown",
      "metadata": {
        "id": "iWIbCGhY7opx"
      },
      "source": [
        "## Recursive gcd using m-n"
      ]
    },
    {
      "cell_type": "code",
      "metadata": {
        "id": "4wmzaEPo7uoH"
      },
      "source": [
        "def gcd(m,n):\n",
        "  (a,b) = (max(m,n), min(m,n))\n",
        "  if a%b == 0:\n",
        "    return(b)\n",
        "  else:\n",
        "    return(gcd(b,a-b))"
      ],
      "execution_count": null,
      "outputs": []
    },
    {
      "cell_type": "markdown",
      "metadata": {
        "id": "82VzKrB5BafM"
      },
      "source": [
        "## Re-run experiment with inputs of size $10^6$ to $10^8$"
      ]
    },
    {
      "cell_type": "code",
      "metadata": {
        "colab": {
          "base_uri": "https://localhost:8080/",
          "height": 236
        },
        "id": "1w9VAcP7BafO",
        "outputId": "8bdd1652-cde9-430b-cd8a-e8a292996836"
      },
      "source": [
        "t = Timer()\n",
        "# 10^6\n",
        "t.start()\n",
        "print(6712345,7654321,gcd(6712345,7654321))\n",
        "t.stop()\n",
        "print(t)\n",
        "# 10^7\n",
        "t.start()\n",
        "print(67812345,87654321,gcd(67812345,87654321))\n",
        "t.stop()\n",
        "print(t)\n",
        "# 10^8\n",
        "t.start()\n",
        "print(678912345,987654321,gcd(678912345,987654321))\n",
        "t.stop()\n",
        "print(t)"
      ],
      "execution_count": null,
      "outputs": [
        {
          "output_type": "error",
          "ename": "NameError",
          "evalue": "ignored",
          "traceback": [
            "\u001b[0;31m---------------------------------------------------------------------------\u001b[0m",
            "\u001b[0;31mNameError\u001b[0m                                 Traceback (most recent call last)",
            "\u001b[0;32m<ipython-input-3-e0ea3fcfc369>\u001b[0m in \u001b[0;36m<module>\u001b[0;34m()\u001b[0m\n\u001b[0;32m----> 1\u001b[0;31m \u001b[0mt\u001b[0m \u001b[0;34m=\u001b[0m \u001b[0mTimer\u001b[0m\u001b[0;34m(\u001b[0m\u001b[0;34m)\u001b[0m\u001b[0;34m\u001b[0m\u001b[0;34m\u001b[0m\u001b[0m\n\u001b[0m\u001b[1;32m      2\u001b[0m \u001b[0;31m# 10^6\u001b[0m\u001b[0;34m\u001b[0m\u001b[0;34m\u001b[0m\u001b[0;34m\u001b[0m\u001b[0m\n\u001b[1;32m      3\u001b[0m \u001b[0mt\u001b[0m\u001b[0;34m.\u001b[0m\u001b[0mstart\u001b[0m\u001b[0;34m(\u001b[0m\u001b[0;34m)\u001b[0m\u001b[0;34m\u001b[0m\u001b[0;34m\u001b[0m\u001b[0m\n\u001b[1;32m      4\u001b[0m \u001b[0mprint\u001b[0m\u001b[0;34m(\u001b[0m\u001b[0;36m6712345\u001b[0m\u001b[0;34m,\u001b[0m\u001b[0;36m7654321\u001b[0m\u001b[0;34m,\u001b[0m\u001b[0mgcd\u001b[0m\u001b[0;34m(\u001b[0m\u001b[0;36m6712345\u001b[0m\u001b[0;34m,\u001b[0m\u001b[0;36m7654321\u001b[0m\u001b[0;34m)\u001b[0m\u001b[0;34m)\u001b[0m\u001b[0;34m\u001b[0m\u001b[0;34m\u001b[0m\u001b[0m\n\u001b[1;32m      5\u001b[0m \u001b[0mt\u001b[0m\u001b[0;34m.\u001b[0m\u001b[0mstop\u001b[0m\u001b[0;34m(\u001b[0m\u001b[0;34m)\u001b[0m\u001b[0;34m\u001b[0m\u001b[0;34m\u001b[0m\u001b[0m\n",
            "\u001b[0;31mNameError\u001b[0m: name 'Timer' is not defined"
          ]
        }
      ]
    },
    {
      "cell_type": "markdown",
      "metadata": {
        "id": "XtLL6SYsCgWg"
      },
      "source": [
        "## But all is not well.  Python has a small recursion depth (default is 999)"
      ]
    },
    {
      "cell_type": "code",
      "metadata": {
        "colab": {
          "base_uri": "https://localhost:8080/"
        },
        "id": "cbk7_oHtCrhU",
        "outputId": "4906eb82-f87a-49d8-d0f0-0f92d57dbb27"
      },
      "source": [
        "gcd(2,999)"
      ],
      "execution_count": null,
      "outputs": [
        {
          "output_type": "execute_result",
          "data": {
            "text/plain": [
              "1"
            ]
          },
          "metadata": {
            "tags": []
          },
          "execution_count": 16
        }
      ]
    },
    {
      "cell_type": "code",
      "metadata": {
        "colab": {
          "base_uri": "https://localhost:8080/",
          "height": 313
        },
        "id": "SwuJtm6DCvgD",
        "outputId": "e237f191-6e95-40d4-aabf-b8a0f5eb2a1d"
      },
      "source": [
        "gcd(2,9999)"
      ],
      "execution_count": null,
      "outputs": [
        {
          "output_type": "error",
          "ename": "RecursionError",
          "evalue": "ignored",
          "traceback": [
            "\u001b[0;31m---------------------------------------------------------------------------\u001b[0m",
            "\u001b[0;31mRecursionError\u001b[0m                            Traceback (most recent call last)",
            "\u001b[0;32m<ipython-input-17-438d0c21cfb7>\u001b[0m in \u001b[0;36m<module>\u001b[0;34m()\u001b[0m\n\u001b[0;32m----> 1\u001b[0;31m \u001b[0mgcd\u001b[0m\u001b[0;34m(\u001b[0m\u001b[0;36m2\u001b[0m\u001b[0;34m,\u001b[0m\u001b[0;36m9999\u001b[0m\u001b[0;34m)\u001b[0m\u001b[0;34m\u001b[0m\u001b[0;34m\u001b[0m\u001b[0m\n\u001b[0m",
            "\u001b[0;32m<ipython-input-14-f3dc3b415bd2>\u001b[0m in \u001b[0;36mgcd\u001b[0;34m(m, n)\u001b[0m\n\u001b[1;32m      4\u001b[0m     \u001b[0;32mreturn\u001b[0m\u001b[0;34m(\u001b[0m\u001b[0mb\u001b[0m\u001b[0;34m)\u001b[0m\u001b[0;34m\u001b[0m\u001b[0;34m\u001b[0m\u001b[0m\n\u001b[1;32m      5\u001b[0m   \u001b[0;32melse\u001b[0m\u001b[0;34m:\u001b[0m\u001b[0;34m\u001b[0m\u001b[0;34m\u001b[0m\u001b[0m\n\u001b[0;32m----> 6\u001b[0;31m     \u001b[0;32mreturn\u001b[0m\u001b[0;34m(\u001b[0m\u001b[0mgcd\u001b[0m\u001b[0;34m(\u001b[0m\u001b[0mb\u001b[0m\u001b[0;34m,\u001b[0m\u001b[0ma\u001b[0m\u001b[0;34m-\u001b[0m\u001b[0mb\u001b[0m\u001b[0;34m)\u001b[0m\u001b[0;34m)\u001b[0m\u001b[0;34m\u001b[0m\u001b[0;34m\u001b[0m\u001b[0m\n\u001b[0m",
            "... last 1 frames repeated, from the frame below ...\n",
            "\u001b[0;32m<ipython-input-14-f3dc3b415bd2>\u001b[0m in \u001b[0;36mgcd\u001b[0;34m(m, n)\u001b[0m\n\u001b[1;32m      4\u001b[0m     \u001b[0;32mreturn\u001b[0m\u001b[0;34m(\u001b[0m\u001b[0mb\u001b[0m\u001b[0;34m)\u001b[0m\u001b[0;34m\u001b[0m\u001b[0;34m\u001b[0m\u001b[0m\n\u001b[1;32m      5\u001b[0m   \u001b[0;32melse\u001b[0m\u001b[0;34m:\u001b[0m\u001b[0;34m\u001b[0m\u001b[0;34m\u001b[0m\u001b[0m\n\u001b[0;32m----> 6\u001b[0;31m     \u001b[0;32mreturn\u001b[0m\u001b[0;34m(\u001b[0m\u001b[0mgcd\u001b[0m\u001b[0;34m(\u001b[0m\u001b[0mb\u001b[0m\u001b[0;34m,\u001b[0m\u001b[0ma\u001b[0m\u001b[0;34m-\u001b[0m\u001b[0mb\u001b[0m\u001b[0;34m)\u001b[0m\u001b[0;34m)\u001b[0m\u001b[0;34m\u001b[0m\u001b[0;34m\u001b[0m\u001b[0m\n\u001b[0m",
            "\u001b[0;31mRecursionError\u001b[0m: maximum recursion depth exceeded in comparison"
          ]
        }
      ]
    },
    {
      "cell_type": "markdown",
      "metadata": {
        "id": "cmcQq1_4CzPm"
      },
      "source": [
        "## Can manually set recursion depth to a larger value"
      ]
    },
    {
      "cell_type": "code",
      "metadata": {
        "colab": {
          "base_uri": "https://localhost:8080/"
        },
        "id": "ig6chBMAC6YI",
        "outputId": "af72c261-ce52-4f64-dac8-97cc889f5a28"
      },
      "source": [
        "import sys\n",
        "sys.setrecursionlimit(10000)\n",
        "gcd(2,9999)"
      ],
      "execution_count": null,
      "outputs": [
        {
          "output_type": "execute_result",
          "data": {
            "text/plain": [
              "1"
            ]
          },
          "metadata": {
            "tags": []
          },
          "execution_count": 2
        }
      ]
    },
    {
      "cell_type": "markdown",
      "metadata": {
        "id": "Eik7FUlxDdYs"
      },
      "source": [
        "## Increasing recursion limit by another factor of 10 causes Colab to crash"
      ]
    },
    {
      "cell_type": "code",
      "metadata": {
        "id": "9QmEzloi7_EH"
      },
      "source": [
        "import sys\n",
        "sys.setrecursionlimit(100000)\n",
        "gcd(2,99999)"
      ],
      "execution_count": null,
      "outputs": []
    },
    {
      "cell_type": "markdown",
      "metadata": {
        "id": "Nj009zSt7OZv"
      },
      "source": [
        "## Euclid's algorithm"
      ]
    },
    {
      "cell_type": "code",
      "metadata": {
        "id": "t5Da1zBq7dTF"
      },
      "source": [
        "def gcd(m,n):\n",
        "  (a,b) = (max(m,n), min(m,n))\n",
        "  if a%b == 0:\n",
        "    return(b)\n",
        "  else:\n",
        "    return(gcd(b,a%b))"
      ],
      "execution_count": null,
      "outputs": []
    },
    {
      "cell_type": "markdown",
      "metadata": {
        "id": "SuxCbe8UDpJ7"
      },
      "source": [
        "## Re-run experiment with inputs of size $10^6$ to $10^8$"
      ]
    },
    {
      "cell_type": "code",
      "metadata": {
        "colab": {
          "base_uri": "https://localhost:8080/"
        },
        "id": "lP1fOFnsDpJ-",
        "outputId": "461fd93f-647e-4399-f3ef-c3aaf40f05a1"
      },
      "source": [
        "t = Timer()\n",
        "# 10^6\n",
        "t.start()\n",
        "print(6712345,7654321,gcd(6712345,7654321))\n",
        "t.stop()\n",
        "print(t)\n",
        "# 10^7\n",
        "t.start()\n",
        "print(67812345,87654321,gcd(67812345,87654321))\n",
        "t.stop()\n",
        "print(t)\n",
        "# 10^8\n",
        "t.start()\n",
        "print(678912345,987654321,gcd(678912345,987654321))\n",
        "t.stop()\n",
        "print(t)"
      ],
      "execution_count": null,
      "outputs": [
        {
          "output_type": "stream",
          "text": [
            "6712345 7654321 1\n",
            "0.0034868870000082097\n",
            "67812345 87654321 9\n",
            "0.0013390710000749095\n",
            "678912345 987654321 9\n",
            "0.0009876770000118995\n"
          ],
          "name": "stdout"
        }
      ]
    },
    {
      "cell_type": "markdown",
      "metadata": {
        "id": "boMh8WntD0Mp"
      },
      "source": [
        "## Can go much further with Euclid's algorithm --- even $10^{16}$ takes only 0.001s\n"
      ]
    },
    {
      "cell_type": "code",
      "metadata": {
        "id": "z73p3Ugn8rzL",
        "colab": {
          "base_uri": "https://localhost:8080/"
        },
        "outputId": "f75c4ca0-34bd-4c5d-fe7a-5271760a8887"
      },
      "source": [
        "# 10^16\n",
        "t.start()\n",
        "print(678912345678912345,987654321987654321,gcd(678912345678912345,987654321987654321))\n",
        "t.stop()\n",
        "print(t)"
      ],
      "execution_count": null,
      "outputs": [
        {
          "output_type": "stream",
          "text": [
            "678912345678912345 987654321987654321 9000000009\n",
            "0.0016202869999233371\n"
          ],
          "name": "stdout"
        }
      ]
    },
    {
      "cell_type": "markdown",
      "metadata": {
        "id": "L_awDxL7ESDy"
      },
      "source": [
        "# **Primality**"
      ]
    },
    {
      "cell_type": "code",
      "metadata": {
        "id": "0sL8GRl6WV3J"
      },
      "source": [
        "def factors(n):\n",
        "  fl = []   # factor list\n",
        "  for i in range(1,n+1):\n",
        "    if (n%i) == 0:\n",
        "      fl.append(i)\n",
        "  return(fl)\n",
        "\n",
        "def prime(n):\n",
        "  return(factors(n) == [1,n])"
      ],
      "execution_count": null,
      "outputs": []
    },
    {
      "cell_type": "code",
      "metadata": {
        "colab": {
          "base_uri": "https://localhost:8080/"
        },
        "id": "asmFntAgElI_",
        "outputId": "e6777b2e-ae1c-4bfc-bd7d-b3cc70d9562d"
      },
      "source": [
        "for i in range(100):\n",
        "  if prime(i):\n",
        "    print(i,end=\", \")\n",
        "print()"
      ],
      "execution_count": null,
      "outputs": [
        {
          "output_type": "stream",
          "text": [
            "2, 3, 5, 7, 11, 13, 17, 19, 23, 29, 31, 37, 41, 43, 47, 53, 59, 61, 67, 71, 73, 79, 83, 89, 97, \n"
          ],
          "name": "stdout"
        }
      ]
    },
    {
      "cell_type": "code",
      "metadata": {
        "id": "MFVkPGSRWcbI"
      },
      "source": [
        "def primesupto(m):\n",
        "  pl = []   # prime list\n",
        "  for i in range(1,m+1):\n",
        "    if prime(i):\n",
        "      pl.append(i)\n",
        "  return(pl)"
      ],
      "execution_count": null,
      "outputs": []
    },
    {
      "cell_type": "code",
      "metadata": {
        "colab": {
          "base_uri": "https://localhost:8080/"
        },
        "id": "qKNJj2Z0E1wk",
        "outputId": "e995dc79-145b-4139-def4-627455ccee86"
      },
      "source": [
        "print(primesupto(1000))"
      ],
      "execution_count": null,
      "outputs": [
        {
          "output_type": "stream",
          "text": [
            "[2, 3, 5, 7, 11, 13, 17, 19, 23, 29, 31, 37, 41, 43, 47, 53, 59, 61, 67, 71, 73, 79, 83, 89, 97, 101, 103, 107, 109, 113, 127, 131, 137, 139, 149, 151, 157, 163, 167, 173, 179, 181, 191, 193, 197, 199, 211, 223, 227, 229, 233, 239, 241, 251, 257, 263, 269, 271, 277, 281, 283, 293, 307, 311, 313, 317, 331, 337, 347, 349, 353, 359, 367, 373, 379, 383, 389, 397, 401, 409, 419, 421, 431, 433, 439, 443, 449, 457, 461, 463, 467, 479, 487, 491, 499, 503, 509, 521, 523, 541, 547, 557, 563, 569, 571, 577, 587, 593, 599, 601, 607, 613, 617, 619, 631, 641, 643, 647, 653, 659, 661, 673, 677, 683, 691, 701, 709, 719, 727, 733, 739, 743, 751, 757, 761, 769, 773, 787, 797, 809, 811, 821, 823, 827, 829, 839, 853, 857, 859, 863, 877, 881, 883, 887, 907, 911, 919, 929, 937, 941, 947, 953, 967, 971, 977, 983, 991, 997]\n"
          ],
          "name": "stdout"
        }
      ]
    },
    {
      "cell_type": "code",
      "metadata": {
        "id": "vbGaYEWlXcz9"
      },
      "source": [
        "def firstprimes(m):\n",
        "  (count,i,pl) = (0,1,[])\n",
        "  while (count < m):\n",
        "    if prime(i):\n",
        "      (count,pl) = (count+1,pl+[i])\n",
        "    i = i+1\n",
        "  return(pl)"
      ],
      "execution_count": null,
      "outputs": []
    },
    {
      "cell_type": "code",
      "metadata": {
        "colab": {
          "base_uri": "https://localhost:8080/"
        },
        "id": "z4sT35OzFCGx",
        "outputId": "30f7561b-a841-4b8e-bd72-c2c70de2edcb"
      },
      "source": [
        "print(firstprimes(100))"
      ],
      "execution_count": null,
      "outputs": [
        {
          "output_type": "stream",
          "text": [
            "[2, 3, 5, 7, 11, 13, 17, 19, 23, 29, 31, 37, 41, 43, 47, 53, 59, 61, 67, 71, 73, 79, 83, 89, 97, 101, 103, 107, 109, 113, 127, 131, 137, 139, 149, 151, 157, 163, 167, 173, 179, 181, 191, 193, 197, 199, 211, 223, 227, 229, 233, 239, 241, 251, 257, 263, 269, 271, 277, 281, 283, 293, 307, 311, 313, 317, 331, 337, 347, 349, 353, 359, 367, 373, 379, 383, 389, 397, 401, 409, 419, 421, 431, 433, 439, 443, 449, 457, 461, 463, 467, 479, 487, 491, 499, 503, 509, 521, 523, 541]\n"
          ],
          "name": "stdout"
        }
      ]
    },
    {
      "cell_type": "markdown",
      "metadata": {
        "id": "kfa5Qv6hFKQ-"
      },
      "source": [
        "## Directly check if n has a non-trivial factor"
      ]
    },
    {
      "cell_type": "code",
      "metadata": {
        "id": "M3YfwPr7XfN-"
      },
      "source": [
        "def prime(n):\n",
        "  result = True\n",
        "  for i in range(2,n):\n",
        "    if (n%i) == 0:\n",
        "      result = False\n",
        "  return(result)"
      ],
      "execution_count": null,
      "outputs": []
    },
    {
      "cell_type": "code",
      "metadata": {
        "id": "SAkVboQoXmyO",
        "colab": {
          "base_uri": "https://localhost:8080/"
        },
        "outputId": "0e2b2034-4554-4db4-86e2-a565cb8ce87a"
      },
      "source": [
        "for i in range(100):\n",
        "  if prime(i):\n",
        "    print(i,end=\", \")\n",
        "print()"
      ],
      "execution_count": null,
      "outputs": [
        {
          "output_type": "stream",
          "text": [
            "0, 1, 2, 3, 5, 7, 11, 13, 17, 19, 23, 29, 31, 37, 41, 43, 47, 53, 59, 61, 67, 71, 73, 79, 83, 89, 97, \n"
          ],
          "name": "stdout"
        }
      ]
    },
    {
      "cell_type": "markdown",
      "metadata": {
        "id": "wxg6SuV7FVY6"
      },
      "source": [
        "## Note that this incorrectly lists 0 and 1 as prime!"
      ]
    },
    {
      "cell_type": "markdown",
      "metadata": {
        "id": "rIJ_fzq4Fv_F"
      },
      "source": [
        "## Compute frequencies of differences between consecutive primes"
      ]
    },
    {
      "cell_type": "code",
      "metadata": {
        "id": "OmrW77MOEwNt"
      },
      "source": [
        "def primediffs(n):\n",
        "  lastprime = 2\n",
        "  pd = {}  # Dictionary for \n",
        "           # prime diferences\n",
        "  for i in range(3,n+1):\n",
        "    if prime(i):\n",
        "      d = i - lastprime\n",
        "      lastprime = i\n",
        "      if d in pd.keys():\n",
        "        pd[d] = pd[d] + 1\n",
        "      else:\n",
        "        pd[d] = 1\n",
        "  return(pd)"
      ],
      "execution_count": null,
      "outputs": []
    },
    {
      "cell_type": "code",
      "metadata": {
        "colab": {
          "base_uri": "https://localhost:8080/"
        },
        "id": "L6Fus_loF4XJ",
        "outputId": "f17a9509-d03f-435c-b97b-9710395186b6"
      },
      "source": [
        "pd10000 = primediffs(10000)\n",
        "print(pd10000)"
      ],
      "execution_count": null,
      "outputs": [
        {
          "output_type": "stream",
          "text": [
            "{1: 1, 2: 205, 4: 202, 6: 299, 8: 101, 14: 54, 10: 119, 12: 105, 18: 40, 20: 15, 22: 16, 34: 2, 24: 15, 16: 33, 26: 3, 28: 5, 30: 11, 32: 1, 36: 1}\n"
          ],
          "name": "stdout"
        }
      ]
    },
    {
      "cell_type": "markdown",
      "metadata": {
        "id": "OehCBjT3GH7W"
      },
      "source": [
        "## $3 - 2 = 1$. Other than this, all differences are even. Why?"
      ]
    }
  ]
}