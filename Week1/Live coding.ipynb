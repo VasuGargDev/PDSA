{
 "cells": [
  {
   "cell_type": "markdown",
   "id": "b8aaff04-18a7-42e3-ada8-f33521316f03",
   "metadata": {},
   "source": [
    "# Live coding"
   ]
  },
  {
   "cell_type": "markdown",
   "id": "2a54c2f9-e00d-4582-952c-d1cba429010c",
   "metadata": {},
   "source": [
    "### LCP 1"
   ]
  },
  {
   "cell_type": "code",
   "execution_count": null,
   "id": "a8976f74-4494-463f-ad84-b8a57d25403b",
   "metadata": {},
   "outputs": [],
   "source": [
    "\n",
    "#done myself technically wrong solution\n",
    "\n",
    "def prime_product(m):                #prime product also known as semi-prime\n",
    "    if(m<0):                         #negative case\n",
    "        return(False)\n",
    "    fl = []   \n",
    "    for i in range(1,m+1):\n",
    "        if (m%i) == 0:\n",
    "            fl.append(i)\n",
    "    if(fl==[1,m]):                   #case when number is prime\n",
    "        return(False)\n",
    "    elif(len(fl)==4):                #has 4 factors\n",
    "        if(m==(fl[1]*fl[2])):        #the product of middle two factors is equal to our number m \n",
    "            return(True)             #Note:didn't check if these factors are prime or not, program still works\n",
    "    else:                            \n",
    "        return(False)                #all the cases failed so false\n",
    "        \n",
    "    \n",
    "# suffix (Visible)    \n",
    "n = int(input())\n",
    "print(prime_product(n))"
   ]
  },
  {
   "cell_type": "markdown",
   "id": "98fdc6f6-9b1b-46a2-84e7-44ab222dde1b",
   "metadata": {},
   "source": [
    "### solution provided"
   ]
  },
  {
   "cell_type": "code",
   "execution_count": null,
   "id": "cfedc495-3fae-4dd9-9583-0cd19e466861",
   "metadata": {},
   "outputs": [],
   "source": [
    "#solved live online\n",
    "\n",
    "def is_prime(x):\n",
    "    return len([f for f in range(1,x+1) if x%f==0]) == 2\n",
    "\"\"\" #OR\n",
    "def factors(n):\n",
    "    factorlist = []\n",
    "    for i in range(1,n+1):\n",
    "        if n%i == 0:\n",
    "            factorlist.append(i)\n",
    "    return(factorlist)\n",
    "def isprime(n):\n",
    "    return(factors(n) == [1,n])\n",
    "\"\"\"\n",
    "\n",
    "def prime_product(n):\n",
    "    for f in range(2,n):\n",
    "        #f is a factor of n\n",
    "        #is f a prime\n",
    "        # n // f\n",
    "        if n%f == 0 and is_prime(f) and is_prime(n//f):\n",
    "            return(True)\n",
    "    return(False)\n",
    "\n",
    "# suffix (Visible)\n",
    "n = int(input())\n",
    "print(prime_product(n))\n"
   ]
  },
  {
   "cell_type": "markdown",
   "id": "c58bd995-fcc4-49d1-bf5f-f0b4f52a2ff3",
   "metadata": {},
   "source": [
    "### LCP 2"
   ]
  },
  {
   "cell_type": "code",
   "execution_count": null,
   "id": "7c7ee27c-10f4-4cdf-86d0-428978d0ac62",
   "metadata": {},
   "outputs": [],
   "source": [
    "def del_char(s,c):\n",
    "    if (len(c)!=1):\n",
    "        return(s)\n",
    "    x=\"\"\n",
    "    for i in s:\n",
    "        if i!=c:\n",
    "            x+=i\n",
    "    return(x)  \n",
    "\n",
    "# Suffix code (visible)\n",
    "s = input()\n",
    "c = input()\n",
    "print(del_char(s,c))"
   ]
  },
  {
   "cell_type": "markdown",
   "id": "8a5c2018-49d5-4d55-92c5-bc9664ff0214",
   "metadata": {},
   "source": [
    "### alternative solutions "
   ]
  },
  {
   "cell_type": "code",
   "execution_count": null,
   "id": "d73f72e7-4740-4d8b-b4ad-453493aed289",
   "metadata": {},
   "outputs": [],
   "source": [
    "def del_char(s,c):\n",
    "    if (len(c)==1):\n",
    "        s=s.replace(c,\"\")\n",
    "    return(s)    \n",
    "\n",
    "# Suffix code (visible)\n",
    "s = input()\n",
    "c = input()\n",
    "print(del_char(s,c))"
   ]
  },
  {
   "cell_type": "code",
   "execution_count": null,
   "id": "b6925e11-a401-4a70-9b0f-a5230be83764",
   "metadata": {},
   "outputs": [],
   "source": [
    "def del_char(s,c):\n",
    "    if (len(c)!=1):\n",
    "        return(s)\n",
    "    return \"\".join([i for i in s if i!=c])\n",
    "\n",
    "# Suffix code (visible)\n",
    "s = input()\n",
    "c = input()\n",
    "print(del_char(s,c))"
   ]
  },
  {
   "cell_type": "markdown",
   "id": "2e86f28d-275a-4007-b7eb-138152951adb",
   "metadata": {},
   "source": [
    "### LCP 3"
   ]
  },
  {
   "cell_type": "code",
   "execution_count": null,
   "id": "6378e51d-594f-4266-9d6b-aeb433145253",
   "metadata": {},
   "outputs": [],
   "source": [
    "def shuffle(L1,L2):\n",
    "    shuf=[]\n",
    "    n=max(len(L1),len(L2))\n",
    "    for i in range(n):\n",
    "        if i<len(L1):\n",
    "            shuf.append(L1[i])\n",
    "        if i<len(L2):\n",
    "            shuf.append(L2[i])    \n",
    "    return(shuf)    \n",
    "\n",
    "# Suffix code (visible)\n",
    "L1 = eval(input())\n",
    "L2 = eval(input())\n",
    "print(shuffle(L1,L2))"
   ]
  },
  {
   "cell_type": "markdown",
   "id": "2788c65e-cefa-4e9c-82ef-94652b674ab8",
   "metadata": {},
   "source": [
    "### solution provided"
   ]
  },
  {
   "cell_type": "code",
   "execution_count": null,
   "id": "0eeee271-9fc1-4125-a49f-338eb23dc58e",
   "metadata": {},
   "outputs": [],
   "source": [
    "def shuffle(l1,l2):\n",
    "    if len(l1) < len(l2):\n",
    "        minlength = len(l1)\n",
    "    else:\n",
    "        minlength = len(l2)\n",
    "    shuffled = []\n",
    "    for i in range(minlength):\n",
    "        shuffled.append(l1[i])\n",
    "        shuffled.append(l2[i])\n",
    "    shuffled = shuffled + l1[minlength:] + l2[minlength:]\n",
    "    return(shuffled)\n",
    "\n",
    "# Suffix code (visible)\n",
    "L1 = eval(input())\n",
    "L2 = eval(input())\n",
    "print(shuffle(L1,L2))\n"
   ]
  },
  {
   "cell_type": "markdown",
   "id": "295c2008-24c6-42e1-8ff5-a2db6fbbeaeb",
   "metadata": {},
   "source": [
    "### LCP 4"
   ]
  },
  {
   "cell_type": "code",
   "execution_count": null,
   "id": "d4fb4162-5b2f-4861-92b3-e444b33f1f7f",
   "metadata": {},
   "outputs": [],
   "source": [
    "def expanding(L):\n",
    "    if(len(L)<=2):\n",
    "        return(True)\n",
    "    pdiff=abs(L[1]-L[0])\n",
    "    for i in range(1,len(L)-1):\n",
    "        diff=abs(L[i+1]-L[i])\n",
    "        if (diff<=pdiff):\n",
    "            return(False)\n",
    "        pdiff=diff\n",
    "    return(True)\n",
    "\n",
    "# Suffix code (visible)\n",
    "L = eval(input())\n",
    "print(expanding(L))"
   ]
  },
  {
   "cell_type": "markdown",
   "id": "0dead414-73a0-4170-90f4-0bb7522fc983",
   "metadata": {},
   "source": [
    "### alternative solution"
   ]
  },
  {
   "cell_type": "code",
   "execution_count": null,
   "id": "f2430c02-a2b5-43eb-b6c9-1197d3572370",
   "metadata": {},
   "outputs": [],
   "source": [
    "def expanding(l):\n",
    "    for i in range(len(L)-2):\n",
    "        if abs(L[i+2]-L[i+1]) <= abs(L[i+1]-L[i]):\n",
    "            return(False)\n",
    "    return(True)\n",
    "\n",
    "# Suffix code (visible)\n",
    "L = eval(input())\n",
    "print(expanding(L))"
   ]
  },
  {
   "cell_type": "markdown",
   "id": "950d02f4-777e-4d4c-974c-f260636d1537",
   "metadata": {},
   "source": [
    "### solution provided"
   ]
  },
  {
   "cell_type": "code",
   "execution_count": null,
   "id": "620ca7c2-2eb9-45f5-bc37-c8f381350ae8",
   "metadata": {},
   "outputs": [],
   "source": [
    "def expanding(l):  #recurssive\n",
    "    if len(l) <= 2:\n",
    "        return(True)\n",
    "    diff = abs(l[1]-l[0])\n",
    "    return(diff < abs(l[2]-l[1]) and expanding(l[1:]))\n",
    "\n",
    "#OR\n",
    "\n",
    "def expanding_iterative(l):  #iterative (same as first self solution)\n",
    "    if len(l) <= 2:\n",
    "        return(True)\n",
    "    olddiff = abs(l[1]-l[0])\n",
    "    for i in range(2,len(l)):\n",
    "        newdiff = abs(l[i]-l[i-1])\n",
    "        if newdiff <= olddiff:\n",
    "            return(False)\n",
    "        olddiff = newdiff\n",
    "    return(True)\n",
    "\n",
    "# Suffix (Visible)\n",
    "L = eval(input())\n",
    "print(expanding(L))"
   ]
  },
  {
   "cell_type": "markdown",
   "id": "0cd8f6bd-a1dc-4386-8d01-e0267541225d",
   "metadata": {},
   "source": [
    "### LCP 5"
   ]
  },
  {
   "cell_type": "code",
   "execution_count": null,
   "id": "31b52897-aa31-4681-9d8e-b2598640f5ac",
   "metadata": {},
   "outputs": [],
   "source": [
    "def sumsquare(L):\n",
    "    e=0\n",
    "    o=0\n",
    "    for x in L:\n",
    "        if x%2==0:\n",
    "            e+=(x*x)\n",
    "        else:\n",
    "            o+=(x*x)\n",
    "    return([o,e])\n",
    "\n",
    "# Suffix (Visible)\n",
    "L = eval(input())\n",
    "print(sumsquare(L))"
   ]
  },
  {
   "cell_type": "markdown",
   "id": "9564bcdd-3236-46c2-84b5-ff4268d60741",
   "metadata": {},
   "source": [
    "### LCP 6"
   ]
  },
  {
   "cell_type": "code",
   "execution_count": null,
   "id": "69b7b871-292f-4595-806e-810c22a12bce",
   "metadata": {},
   "outputs": [],
   "source": [
    "#solution using sorted and count (it is advised not to use them)\n",
    "def histogram(L):\n",
    "    x,y=[],[]\n",
    "    for i in L:\n",
    "        x.append((L.count(i),i))\n",
    "    #sorting by frequency\n",
    "    v=sorted(set(x))\n",
    "    for i in v:\n",
    "        #(num,freq(num))\n",
    "        y.append(i[::-1])\n",
    "    return(y)    \n",
    "    "
   ]
  },
  {
   "cell_type": "code",
   "execution_count": null,
   "id": "86200e6b-fc1d-4381-a789-f0f19e399928",
   "metadata": {},
   "outputs": [],
   "source": [
    "def insert(P,x):\n",
    "    #P is going to be a list of tupples  \n",
    "    #P is already sorted according to our requirement (innitially empty)\n",
    "    #insertion(P,x) should return a sorted list with x inserted at the right place\n",
    "    #x-(num,freq(num))\n",
    "    out=[]\n",
    "    inserted=False\n",
    "    \n",
    "    for elem in P:\n",
    "        #first level of sort: based on 2nd index\n",
    "        if (not inserted) and (elem[1]>x[1]):\n",
    "            out.append(x)\n",
    "            inserted=True\n",
    "        #second level of sort: based on 1st index\n",
    "        if (not inserted) and (elem[1]==x[1]) and (elem[0]>x[0]):\n",
    "            out.append(x)\n",
    "            inserted=True\n",
    "        out.append(elem)\n",
    "        \n",
    "    #Possibility-1 : P is empty\n",
    "    #Possibility-2 : x[1] is greater than every elem in P\n",
    "    if (not inserted):\n",
    "        out.append(x)\n",
    "    return(out)    \n",
    "\n",
    "\n",
    "def histogram(L):\n",
    "    D=dict()\n",
    "    \n",
    "    #Get the freq of each element in the list\n",
    "    for x in L:\n",
    "        if x not in D:\n",
    "            D[x]=0\n",
    "        D[x]+=1\n",
    "        \n",
    "    #List of tuples (x,freq(x))\n",
    "    T=[]\n",
    "    for item in D.items():\n",
    "        T.append(item)\n",
    "    \n",
    "    #sort T and place it in L_sort\n",
    "    L_sort = []\n",
    "    for x in T:\n",
    "        L_sort = insert(L_sort,x)\n",
    "        \n",
    "    return(L_sort)\n",
    "\n",
    "# Suffix code(Visible)\n",
    "L=eval(input())\n",
    "print(histogram(L))"
   ]
  },
  {
   "cell_type": "markdown",
   "id": "6f867ecf-a735-44b7-b21f-ce8d833c5363",
   "metadata": {},
   "source": [
    "### solution provided (best)"
   ]
  },
  {
   "cell_type": "code",
   "execution_count": null,
   "id": "fff89315-425b-4159-a5bc-163fe7e567df",
   "metadata": {},
   "outputs": [],
   "source": [
    "def build_table(l):\n",
    "    # Use a dictionary to build a frequency table\n",
    "    frequency = {}\n",
    "    # For each number, create a new entry in the table or increment the frequency\n",
    "    for n in l:\n",
    "        if n in frequency.keys():\n",
    "            frequency[n] = frequency[n] + 1\n",
    "        else:\n",
    "            frequency[n] = 1\n",
    "    return(frequency)  #returned dictionary (unsorted)\n",
    "    \n",
    "def sort_table(fdict):                              \n",
    "    # First build a list of the form (r,n)\n",
    "    flist = [ (fdict[n],n) for n in fdict.keys() ]\n",
    "    # Sort this list using built in sort, which will sort first by frequency, then by value\n",
    "    \"\"\"\n",
    "    #see live coding 1:41:07 sorting using nested for loops\n",
    "    \"\"\"\n",
    "    flist.sort()\n",
    "    # Flip each pair and return\n",
    "    return( [ (n,r) for (r,n) in flist ])\n",
    "def histogram(l):\n",
    "    frequency_table = build_table(l)\n",
    "    return(sort_table(frequency_table))\n",
    "\n",
    "# Suffix code(Visible)\n",
    "L=eval(input())\n",
    "print(histogram(L))"
   ]
  }
 ],
 "metadata": {
  "kernelspec": {
   "display_name": "Python 3 (ipykernel)",
   "language": "python",
   "name": "python3"
  },
  "language_info": {
   "codemirror_mode": {
    "name": "ipython",
    "version": 3
   },
   "file_extension": ".py",
   "mimetype": "text/x-python",
   "name": "python",
   "nbconvert_exporter": "python",
   "pygments_lexer": "ipython3",
   "version": "3.9.7"
  }
 },
 "nbformat": 4,
 "nbformat_minor": 5
}
