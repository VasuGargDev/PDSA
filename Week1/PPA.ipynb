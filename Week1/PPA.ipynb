{
 "cells": [
  {
   "cell_type": "markdown",
   "id": "99220aa6-cfec-4fac-8116-28f780c5e576",
   "metadata": {
    "tags": []
   },
   "source": [
    "# PPA 1"
   ]
  },
  {
   "cell_type": "code",
   "execution_count": null,
   "id": "b54cb316-8c77-46e2-ab0d-4345a0cad311",
   "metadata": {
    "tags": []
   },
   "outputs": [],
   "source": [
    "#PPA 1\n",
    "def Twin_Primes(n,m):\n",
    "    pl = []\n",
    "    for i in range(n,m+1):\n",
    "        f=0\n",
    "        for j in range(1,i+1):\n",
    "            if i%j==0:\n",
    "                f+=1\n",
    "        if f==2:\n",
    "            pl.append(i)\n",
    "    ls = []        \n",
    "    for a in pl:\n",
    "        for b in pl:\n",
    "            if ((n <= a < b <= m) and (b==a+2)):\n",
    "                    ls.append((a,b)) \n",
    "                    #break\n",
    "    return ls\n",
    "        \n",
    "    \n",
    "n=int(input())\n",
    "m=int(input())\n",
    "print(sorted(Twin_Primes(n, m)))"
   ]
  },
  {
   "cell_type": "markdown",
   "id": "0f5f3ce5-3891-4504-b068-6d759ce521f0",
   "metadata": {
    "tags": []
   },
   "source": [
    "### provided solution"
   ]
  },
  {
   "cell_type": "code",
   "execution_count": null,
   "id": "baa78b24-e670-42b6-b530-73d612e3e87d",
   "metadata": {},
   "outputs": [],
   "source": [
    "def prime(n):\n",
    "    if n < 2:\n",
    "        return False\n",
    "    for i in range(2,n//2+1):\n",
    "        if n%i==0:\n",
    "            return False\n",
    "    return True\n",
    "def Twin_Primes(n, m):\n",
    "    Res=[]\n",
    "    for i in range(n,m-1):\n",
    "        if prime(i)==True:\n",
    "            if prime(i+2)==True:\n",
    "                Res.append((i,i+2))\n",
    "    return(Res)\n",
    "\n",
    "#Suffix Code(Visible)\n",
    "n=int(input())\n",
    "m=int(input())\n",
    "print(sorted(Twin_Primes(n, m)))"
   ]
  },
  {
   "cell_type": "markdown",
   "id": "2e85527a-7fa5-4692-b392-3dd3b7d648d6",
   "metadata": {
    "tags": []
   },
   "source": [
    "# PPA 2"
   ]
  },
  {
   "cell_type": "code",
   "execution_count": 33,
   "id": "6bc69c3e-6fa1-4b3a-b4bf-291315f2a988",
   "metadata": {},
   "outputs": [
    {
     "name": "stdin",
     "output_type": "stream",
     "text": [
      " 2\n",
      " 3\n",
      " 4\n"
     ]
    },
    {
     "name": "stdout",
     "output_type": "stream",
     "text": [
      "Valid\n",
      "Scalene\n",
      "Obtuse\n",
      "2.9047375096555625\n"
     ]
    }
   ],
   "source": [
    "#PPA 2\n",
    "\n",
    "class Triangle:\n",
    "    def __init__(self,a,b,c):\n",
    "        ls=[a,b,c]              #sorting before self initialization\n",
    "        ls.sort()\n",
    "        a=int(ls[0])\n",
    "        b=int(ls[1])\n",
    "        c=int(ls[2])\n",
    "        self.a = a\n",
    "        self.b = b\n",
    "        self.c = c\n",
    "        \n",
    "    def is_valid(self):\n",
    "        a= self.a             \n",
    "        b= self.b\n",
    "        c= self.c\n",
    "        T=False\n",
    "        if(a+b>c and a+c>b and b+c>a):\n",
    "            T=True\n",
    "        if T:\n",
    "            return \"Valid\"\n",
    "        else:\n",
    "            return \"Invalid\"\n",
    "    def Side_Classification(self):\n",
    "        a= self.a\n",
    "        b= self.b\n",
    "        c= self.c\n",
    "        q=T.is_valid()\n",
    "        if q==\"Invalid\":\n",
    "            return q\n",
    "        else:\n",
    "            if (a==b==c):\n",
    "                return \"Equilateral\"\n",
    "            elif (a==b or b==c or c==a):\n",
    "                return \"Isosceles\"\n",
    "            elif (a!=b!=c):\n",
    "                return \"Scalene\"\n",
    "        \n",
    "    def Angle_Classification(self):\n",
    "        a= self.a                    #Sorting is madatorily required only for this def\n",
    "        b= self.b\n",
    "        c= self.c\n",
    "        q=T.is_valid()\n",
    "        if q==\"Invalid\":\n",
    "            return q\n",
    "        else:\n",
    "            if (a*a + b*b > c*c):\n",
    "                return \"Acute\"\n",
    "            elif (a*a + b*b == c*c):\n",
    "                return \"Right\"\n",
    "            elif (a*a + b*b < c*c):\n",
    "                return \"Obtuse\"\n",
    "        \n",
    "    def Area(self):\n",
    "        a= self.a\n",
    "        b= self.b\n",
    "        c= self.c\n",
    "        import math\n",
    "        q=T.is_valid()\n",
    "        if q==\"Invalid\":\n",
    "            return q\n",
    "        else:\n",
    "            s= (a+b+c)/2\n",
    "            ar= math.sqrt(s*(s-a)*(s-b)*(s-c))\n",
    "            return ar\n",
    "        \n",
    "a=int(input())\n",
    "b=int(input())\n",
    "c=int(input())\n",
    "T=Triangle(a,b,c)\n",
    "print(T.is_valid())\n",
    "print(T.Side_Classification())\n",
    "print(T.Angle_Classification())\n",
    "print(T.Area())"
   ]
  },
  {
   "cell_type": "markdown",
   "id": "36bea236-6247-4844-96b2-09b8ed4ce1c1",
   "metadata": {
    "tags": []
   },
   "source": [
    "### provided solution"
   ]
  },
  {
   "cell_type": "code",
   "execution_count": null,
   "id": "eb302c52-c2e9-4863-b78c-2989d583d943",
   "metadata": {},
   "outputs": [],
   "source": [
    "class Triangle:\n",
    "    def __init__(self,a,b,c):\n",
    "        self.a = a\n",
    "        self.b = b\n",
    "        self.c = c\n",
    "    def is_valid(self):\n",
    "        if self.a >= self.b + self.c:\n",
    "            return 'Invalid'\n",
    "        if self.b >= self.a + self.c:\n",
    "            return 'Invalid'\n",
    "        if self.c >= self.b + self.a:\n",
    "            return 'Invalid'\n",
    "        return 'Valid'\n",
    "    def Side_Classification(self):\n",
    "        if self.is_valid() == 'Valid':\n",
    "            if self.a == self.b == self.c:\n",
    "                return 'Equilateral'\n",
    "            elif (self.a == self.b) or (self.b == self.c) or (self.a == self.c):\n",
    "                return 'Isosceles'\n",
    "            else:\n",
    "                return 'Scalene'\n",
    "        else:\n",
    "            return 'Invalid'\n",
    "    def Angle_Classification(self):\n",
    "        if self.is_valid() == 'Valid':\n",
    "            l = [self.a**2, self.b**2, self.c**2]\n",
    "            l.sort()\n",
    "            if l[0] + l[1] > l[2]:\n",
    "                return \"Acute\"\n",
    "            elif l[0] + l[1] == l[2]:\n",
    "                return \"Right\"\n",
    "            elif l[0] + l[1] < l[2]:\n",
    "                return \"Obtuse\"\n",
    "            else:\n",
    "                return 'Invalid'\n",
    "    def Area(self):\n",
    "        if self.is_valid() == 'Valid':\n",
    "            s = (self.a + self.b + self.c)/2\n",
    "            return (s*(s-self.a)*(s-self.b)*(s-self.c)) ** 0.5\n",
    "        else:\n",
    "            return 'Invalid'\n",
    "\n",
    "        \n",
    "#Suffix Code(Visible)        \n",
    "a=int(input())\n",
    "b=int(input())\n",
    "c=int(input())\n",
    "T=Triangle(a,b,c)\n",
    "print(T.is_valid())\n",
    "print(T.Side_Classification())\n",
    "print(T.Angle_Classification())\n",
    "print(T.Area())        "
   ]
  }
 ],
 "metadata": {
  "kernelspec": {
   "display_name": "Python 3 (ipykernel)",
   "language": "python",
   "name": "python3"
  },
  "language_info": {
   "codemirror_mode": {
    "name": "ipython",
    "version": 3
   },
   "file_extension": ".py",
   "mimetype": "text/x-python",
   "name": "python",
   "nbconvert_exporter": "python",
   "pygments_lexer": "ipython3",
   "version": "3.9.7"
  }
 },
 "nbformat": 4,
 "nbformat_minor": 5
}
